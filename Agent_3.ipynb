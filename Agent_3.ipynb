{
 "cells": [
  {
   "cell_type": "code",
   "execution_count": 60,
   "id": "b082f874",
   "metadata": {},
   "outputs": [],
   "source": [
    "from typing_extensions import TypedDict\n",
    "from langgraph.graph import StateGraph, START,  END "
   ]
  },
  {
   "cell_type": "code",
   "execution_count": 61,
   "id": "394c2989",
   "metadata": {},
   "outputs": [],
   "source": [
    "class AgentState(TypedDict):\n",
    "    number1: int\n",
    "    operation: str\n",
    "    number2: int\n",
    "    finalNumber: int"
   ]
  },
  {
   "cell_type": "code",
   "execution_count": 62,
   "id": "8472f51c",
   "metadata": {},
   "outputs": [],
   "source": [
    "def adder(state: AgentState)-> AgentState:\n",
    "    '''This node adds the 2 numbers'''\n",
    "    state['finalNumber']= state['number1']+ state['number2']\n",
    "    return state"
   ]
  },
  {
   "cell_type": "code",
   "execution_count": 63,
   "id": "9ceac826",
   "metadata": {},
   "outputs": [],
   "source": [
    "def subtractor(state: AgentState)-> AgentState:\n",
    "    '''This node subtracts the 2 numbers'''\n",
    "    state['finalNumber']= state['number1']- state['number2']\n",
    "    return state"
   ]
  },
  {
   "cell_type": "code",
   "execution_count": 64,
   "id": "62621af0",
   "metadata": {},
   "outputs": [],
   "source": [
    "def decide_node(state: AgentState)-> AgentState:\n",
    "    if state['operation']==\"+\":\n",
    "        return \"addition_operator\"\n",
    "    elif state['operation']==\"-\":\n",
    "        return \"subtraction_operation\""
   ]
  },
  {
   "cell_type": "code",
   "execution_count": 65,
   "id": "ad75ad01",
   "metadata": {},
   "outputs": [
    {
     "data": {
      "text/plain": [
       "<langgraph.graph.state.StateGraph at 0x13129025460>"
      ]
     },
     "execution_count": 65,
     "metadata": {},
     "output_type": "execute_result"
    }
   ],
   "source": [
    "graph= StateGraph(AgentState)\n",
    "graph.add_node(\"adder\", adder)\n",
    "graph.add_node(\"subtractor\", subtractor)\n",
    "graph.add_node(\"router\", lambda state: state  ) # why lamda? coz we are just comparing above not assigning anything."
   ]
  },
  {
   "cell_type": "code",
   "execution_count": 66,
   "id": "da88a585",
   "metadata": {},
   "outputs": [
    {
     "data": {
      "text/plain": [
       "<langgraph.graph.state.StateGraph at 0x13129025460>"
      ]
     },
     "execution_count": 66,
     "metadata": {},
     "output_type": "execute_result"
    }
   ],
   "source": [
    "graph.add_edge(START, \"router\")\n",
    "graph.add_conditional_edges(\n",
    "    \"router\",\n",
    "    decide_node, #action it needs to perform\n",
    "    {\n",
    "        #edge, node\n",
    "        \"addition_operator\": \"adder\", \n",
    "        \"subtraction_operation\": \"subtractor\"\n",
    "    }\n",
    "    \n",
    ")\n"
   ]
  },
  {
   "cell_type": "code",
   "execution_count": 67,
   "id": "45ac4eba",
   "metadata": {},
   "outputs": [
    {
     "data": {
      "text/plain": [
       "<langgraph.graph.state.StateGraph at 0x13129025460>"
      ]
     },
     "execution_count": 67,
     "metadata": {},
     "output_type": "execute_result"
    }
   ],
   "source": [
    "graph.add_edge(\"adder\", END)\n",
    "graph.add_edge(\"subtractor\", END)"
   ]
  },
  {
   "cell_type": "code",
   "execution_count": 68,
   "id": "dee62c56",
   "metadata": {},
   "outputs": [],
   "source": [
    "app=graph.compile()"
   ]
  },
  {
   "cell_type": "code",
   "execution_count": 69,
   "id": "8c6ee4a8",
   "metadata": {},
   "outputs": [
    {
     "data": {
      "image/png": "[encoded data removed]",
      "text/plain": [
       "<IPython.core.display.Image object>"
      ]
     },
     "metadata": {},
     "output_type": "display_data"
    }
   ],
   "source": [
    "from IPython.display import Image, display\n",
    "display(Image(app.get_graph(). draw_mermaid_png()))"
   ]
  },
  {
   "cell_type": "code",
   "execution_count": 70,
   "id": "12d2599a",
   "metadata": {},
   "outputs": [
    {
     "name": "stdout",
     "output_type": "stream",
     "text": [
      "{'number1': 10, 'operation': '-', 'number2': 8, 'finalNumber': 2}\n"
     ]
    }
   ],
   "source": [
    "initial_state = {\"number1\": 10, \"operation\": \"-\", \"number2\": 8}\n",
    "print(app.invoke(initial_state))\n"
   ]
  }
 ],
 "metadata": {
  "kernelspec": {
   "display_name": "env",
   "language": "python",
   "name": "python3"
  },
  "language_info": {
   "codemirror_mode": {
    "name": "ipython",
    "version": 3
   },
   "file_extension": ".py",
   "mimetype": "text/x-python",
   "name": "python",
   "nbconvert_exporter": "python",
   "pygments_lexer": "ipython3",
   "version": "3.12.6"
  }
 },
 "nbformat": 4,
 "nbformat_minor": 5
}
