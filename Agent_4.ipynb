{
 "cells": [
  {
   "cell_type": "code",
   "execution_count": 1,
   "id": "6f8717f2",
   "metadata": {},
   "outputs": [],
   "source": [
    "from langgraph.graph import StateGraph, START, END\n",
    "from typing import Dict, List, TypedDict\n",
    "import random"
   ]
  },
  {
   "cell_type": "code",
   "execution_count": 3,
   "id": "90b4206d",
   "metadata": {},
   "outputs": [],
   "source": [
    "class AgentState(TypedDict):\n",
    "    name: str\n",
    "    number: List[int]\n",
    "    counter: int"
   ]
  },
  {
   "cell_type": "code",
   "execution_count": 5,
   "id": "62aa585c",
   "metadata": {},
   "outputs": [],
   "source": [
    "def greet_node(state: AgentState)-> AgentState:\n",
    "    '''Greet the user'''\n",
    "    state['name']= f\"Hii there {state['name']}\"\n",
    "    state['counter']=0\n",
    "    return state\n",
    "def random_node(state: AgentState)-> AgentState:\n",
    "    '''Generates random number from 0 to 10'''\n",
    "    state['number'].append(random.randint(0,10))\n",
    "    state['counter']+=1\n",
    "    return state"
   ]
  },
  {
   "cell_type": "code",
   "execution_count": 6,
   "id": "9fb402e0",
   "metadata": {},
   "outputs": [],
   "source": [
    "def should_continue(state: AgentState) -> AgentState:\n",
    "    \"\"\"Function to decide what to do next\"\"\"\n",
    "    if state[\"counter\"] < 5:\n",
    "        print(\"ENTERING LOOP\", state[\"counter\"])\n",
    "        return \"loop\"  # Continue looping\n",
    "    else:\n",
    "        return \"exit\"  # Exit the loop\n",
    "    "
   ]
  },
  {
   "cell_type": "code",
   "execution_count": 7,
   "id": "009b3ec3",
   "metadata": {},
   "outputs": [
    {
     "data": {
      "text/plain": [
       "<langgraph.graph.state.StateGraph at 0x1f16275c470>"
      ]
     },
     "execution_count": 7,
     "metadata": {},
     "output_type": "execute_result"
    }
   ],
   "source": [
    "graph= StateGraph(AgentState)\n",
    "graph.add_node(\"greet_node\", greet_node)\n",
    "graph.add_node(\"random_node\", random_node)\n"
   ]
  },
  {
   "cell_type": "code",
   "execution_count": 8,
   "id": "adebbc1a",
   "metadata": {},
   "outputs": [
    {
     "data": {
      "text/plain": [
       "<langgraph.graph.state.StateGraph at 0x1f16275c470>"
      ]
     },
     "execution_count": 8,
     "metadata": {},
     "output_type": "execute_result"
    }
   ],
   "source": [
    "graph.add_edge(\"greet_node\", \"random_node\")\n",
    "graph.add_conditional_edges(\n",
    "    \"random_node\",\n",
    "    should_continue,\n",
    "    {\n",
    "        \"loop\": \"random_node\",\n",
    "        \"exit\": END\n",
    "    }\n",
    ")"
   ]
  },
  {
   "cell_type": "code",
   "execution_count": 9,
   "id": "01598f51",
   "metadata": {},
   "outputs": [],
   "source": [
    "graph.set_entry_point(\"greet_node\")\n",
    "\n",
    "app = graph.compile()"
   ]
  },
  {
   "cell_type": "code",
   "execution_count": 10,
   "id": "9821f689",
   "metadata": {},
   "outputs": [
    {
     "data": {
      "image/png": "[encoded data removed]",
      "text/plain": [
       "<IPython.core.display.Image object>"
      ]
     },
     "metadata": {},
     "output_type": "display_data"
    }
   ],
   "source": [
    "from IPython.display import Image, display\n",
    "display(Image(app.get_graph().draw_mermaid_png()))"
   ]
  },
  {
   "cell_type": "code",
   "execution_count": 11,
   "id": "89f2b093",
   "metadata": {},
   "outputs": [
    {
     "name": "stdout",
     "output_type": "stream",
     "text": [
      "ENTERING LOOP 1\n",
      "ENTERING LOOP 2\n",
      "ENTERING LOOP 3\n",
      "ENTERING LOOP 4\n"
     ]
    },
    {
     "data": {
      "text/plain": [
       "{'name': 'Hii there Sunny', 'number': [1, 6, 0, 9, 3], 'counter': 5}"
      ]
     },
     "execution_count": 11,
     "metadata": {},
     "output_type": "execute_result"
    }
   ],
   "source": [
    "app.invoke({\"name\":\"Sunny\", \"number\":[], \"counter\":1})\n"
   ]
  }
 ],
 "metadata": {
  "kernelspec": {
   "display_name": "env",
   "language": "python",
   "name": "python3"
  },
  "language_info": {
   "codemirror_mode": {
    "name": "ipython",
    "version": 3
   },
   "file_extension": ".py",
   "mimetype": "text/x-python",
   "name": "python",
   "nbconvert_exporter": "python",
   "pygments_lexer": "ipython3",
   "version": "3.12.6"
  }
 },
 "nbformat": 4,
 "nbformat_minor": 5
}
