{
 "cells": [
  {
   "cell_type": "code",
   "execution_count": null,
   "id": "8fec5230",
   "metadata": {},
   "outputs": [],
   "source": [
    "from langchain_openai import ChatOpenAI\n",
    "\n",
    "llm = ChatOpenAI(\n",
    "    model=\"mistralai/mistral-7b-instruct\",  \n",
    "    api_key=\"\",\n",
    "    base_url=\"https://openrouter.ai/api/v1\"\n",
    ")\n"
   ]
  },
  {
   "cell_type": "code",
   "execution_count": 2,
   "id": "caf31007",
   "metadata": {},
   "outputs": [
    {
     "name": "stdout",
     "output_type": "stream",
     "text": [
      " I'm an AI, so I don't have feelings, but I'm here to help you! How can I assist you today?\n"
     ]
    }
   ],
   "source": [
    "print(llm.invoke(\"Hello, how are you?\").content)\n"
   ]
  },
  {
   "cell_type": "code",
   "execution_count": 3,
   "id": "5ec69337",
   "metadata": {},
   "outputs": [],
   "source": [
    "from typing_extensions import TypedDict\n",
    "class State(TypedDict):\n",
    "  application: str\n",
    "  experience_level: str\n",
    "  skill_match : str\n",
    "  response: str"
   ]
  },
  {
   "cell_type": "code",
   "execution_count": null,
   "id": "2e90b3e7",
   "metadata": {},
   "outputs": [],
   "source": [
    "from langgraph.graph import StateGraph, START, END\n",
    "\n",
    "workflow = StateGraph(State)"
   ]
  },
  {
   "cell_type": "code",
   "execution_count": 5,
   "id": "3d9b1361",
   "metadata": {},
   "outputs": [],
   "source": [
    "from langchain_core.prompts import ChatPromptTemplate"
   ]
  },
  {
   "cell_type": "code",
   "execution_count": 6,
   "id": "3174398e",
   "metadata": {},
   "outputs": [],
   "source": [
    "def categorize_experience(state: State) -> State:\n",
    "  print(\"\\nCategorizing the experience level of candidate : \")\n",
    "  prompt = ChatPromptTemplate.from_template(\n",
    "      \"Based on the following job application, categorize the candidate as 'Entry-level', 'Mid-level' or 'Senior-level'\"\n",
    "      \"Application : {application}\"\n",
    "  )\n",
    "  chain = prompt | llm\n",
    "  experience_level = chain.invoke({\"application\": state[\"application\"]}).content\n",
    "  print(f\"Experience Level : {experience_level}\")\n",
    "  return {\"experience_level\" : experience_level}"
   ]
  }
 ],
 "metadata": {
  "kernelspec": {
   "display_name": "env",
   "language": "python",
   "name": "python3"
  },
  "language_info": {
   "codemirror_mode": {
    "name": "ipython",
    "version": 3
   },
   "file_extension": ".py",
   "mimetype": "text/x-python",
   "name": "python",
   "nbconvert_exporter": "python",
   "pygments_lexer": "ipython3",
   "version": "3.12.6"
  }
 },
 "nbformat": 4,
 "nbformat_minor": 5
}
